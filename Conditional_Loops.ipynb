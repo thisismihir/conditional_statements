{
 "cells": [
  {
   "cell_type": "code",
   "execution_count": 1,
   "metadata": {},
   "outputs": [],
   "source": [
    "import numpy as np"
   ]
  },
  {
   "cell_type": "code",
   "execution_count": 2,
   "metadata": {},
   "outputs": [],
   "source": [
    "revenue = np.random.randint(1000, 10000)"
   ]
  },
  {
   "cell_type": "code",
   "execution_count": 3,
   "metadata": {},
   "outputs": [
    {
     "data": {
      "text/plain": [
       "5220"
      ]
     },
     "execution_count": 3,
     "metadata": {},
     "output_type": "execute_result"
    }
   ],
   "source": [
    "revenue"
   ]
  },
  {
   "cell_type": "markdown",
   "metadata": {},
   "source": [
    "### The *if* Statement"
   ]
  },
  {
   "cell_type": "code",
   "execution_count": null,
   "metadata": {},
   "outputs": [],
   "source": [
    "if revenue < 2000:\n",
    "    STATEMENT IF TRUE\n",
    "    "
   ]
  },
  {
   "cell_type": "code",
   "execution_count": null,
   "metadata": {},
   "outputs": [],
   "source": [
    "revenue = np.random.randint(1000, 10000)"
   ]
  },
  {
   "cell_type": "code",
   "execution_count": 33,
   "metadata": {},
   "outputs": [
    {
     "name": "stdout",
     "output_type": "stream",
     "text": [
      "9174\n",
      "nothing happened\n"
     ]
    }
   ],
   "source": [
    "revenue = np.random.randint(1000, 10000)\n",
    "print(revenue)\n",
    "if revenue < 2000:\n",
    "    print('Your revenue has decreased, it’s time to change the strategy')\n",
    "    \n",
    "print('nothing happened')"
   ]
  },
  {
   "cell_type": "markdown",
   "metadata": {},
   "source": [
    "!['title'](flowchart_if.png)\n",
    "##### Flowchart of if statement"
   ]
  },
  {
   "cell_type": "code",
   "execution_count": 35,
   "metadata": {},
   "outputs": [
    {
     "name": "stdout",
     "output_type": "stream",
     "text": [
      "It has the value that we're looking for\n"
     ]
    }
   ],
   "source": [
    "channel = 'coding'\n",
    "\n",
    "if channel == 'coding':\n",
    "    print(\"It has the value that we're looking for\")"
   ]
  },
  {
   "cell_type": "code",
   "execution_count": null,
   "metadata": {},
   "outputs": [],
   "source": []
  },
  {
   "cell_type": "markdown",
   "metadata": {},
   "source": [
    "\n",
    "### The *if-else* Statement"
   ]
  },
  {
   "cell_type": "code",
   "execution_count": 36,
   "metadata": {},
   "outputs": [
    {
     "name": "stdout",
     "output_type": "stream",
     "text": [
      "9174\n",
      "Your revenue is going great.\n"
     ]
    }
   ],
   "source": [
    "print(revenue)\n",
    "if revenue < 2000:\n",
    "    print('Your revenue has decreased, it’s time to change the strategy')\n",
    "else:\n",
    "    print('Your revenue is going great.')"
   ]
  },
  {
   "cell_type": "markdown",
   "metadata": {},
   "source": [
    "!['title'](flowchart_ifelse.png)\n",
    "#### Flowchart of if-else statement"
   ]
  },
  {
   "cell_type": "code",
   "execution_count": null,
   "metadata": {},
   "outputs": [],
   "source": [
    "# Syntax of If-Else\n",
    "if BOOLEAN EXPRESSION:\n",
    "    TRUE STATEMENTS        # executed if condition evaluates to True\n",
    "else:\n",
    "    FALSE STATEMENTS      # executed if condition evaluates to False"
   ]
  },
  {
   "cell_type": "code",
   "execution_count": 37,
   "metadata": {},
   "outputs": [],
   "source": [
    "if True:          # This is always true\n",
    "    pass          # Hence, this is always executed. But it would just pass the compiler\n",
    "else:\n",
    "    pass"
   ]
  },
  {
   "cell_type": "code",
   "execution_count": 39,
   "metadata": {},
   "outputs": [
    {
     "name": "stdout",
     "output_type": "stream",
     "text": [
      "Value is not present\n"
     ]
    }
   ],
   "source": [
    "channel = 'coding'\n",
    "if channel == 'codin':\n",
    "    print(\"It has the value that we're looking for\")\n",
    "else:\n",
    "    print('Value is not present')"
   ]
  },
  {
   "cell_type": "markdown",
   "metadata": {},
   "source": [
    "### Multiple conditions"
   ]
  },
  {
   "cell_type": "code",
   "execution_count": 41,
   "metadata": {},
   "outputs": [
    {
     "name": "stdout",
     "output_type": "stream",
     "text": [
      "9174\n",
      "Your revenue has been pretty amazing for this strategy. Kindly try it for more time\n"
     ]
    }
   ],
   "source": [
    "print(revenue)\n",
    "if revenue < 2000:\n",
    "    print('Your revenue has decreased, it’s time to change the strategy')\n",
    "elif revenue > 8000:\n",
    "    print('Your revenue has been pretty amazing for this strategy. Kindly try it for more time')\n",
    "else:\n",
    "    print('Your revenue is going great.')"
   ]
  },
  {
   "cell_type": "markdown",
   "metadata": {},
   "source": [
    "!['title'](statements_conditional.png)\n",
    "##### Conditional Loop"
   ]
  },
  {
   "cell_type": "code",
   "execution_count": 42,
   "metadata": {},
   "outputs": [
    {
     "name": "stdout",
     "output_type": "stream",
     "text": [
      "It is a multiple of 2\n"
     ]
    }
   ],
   "source": [
    "number = 202\n",
    "if number%2 == 0:\n",
    "    print('It is a multiple of 2')\n",
    "elif number%3 == 0:\n",
    "    print('It is a multiple of 3')\n",
    "elif number%4 == 0:\n",
    "    print('it is a multiple of 4')"
   ]
  },
  {
   "cell_type": "code",
   "execution_count": null,
   "metadata": {},
   "outputs": [],
   "source": []
  },
  {
   "cell_type": "markdown",
   "metadata": {},
   "source": [
    "### Nested Conditions"
   ]
  },
  {
   "cell_type": "code",
   "execution_count": 43,
   "metadata": {},
   "outputs": [
    {
     "name": "stdout",
     "output_type": "stream",
     "text": [
      "Your revenue has been pretty amazing for this strategy. Kindly try it for more time\n"
     ]
    }
   ],
   "source": [
    "if revenue < 2000:\n",
    "    print('Your revenue has decreased, it’s time to change the strategy')\n",
    "else:\n",
    "    if revenue > 8000:\n",
    "        print('Your revenue has been pretty amazing for this strategy. Kindly try it for more time')\n",
    "    else:\n",
    "        print('Your revenue is going great.')"
   ]
  },
  {
   "cell_type": "code",
   "execution_count": 44,
   "metadata": {},
   "outputs": [],
   "source": [
    "x = 20\n",
    "y = 42"
   ]
  },
  {
   "cell_type": "code",
   "execution_count": 45,
   "metadata": {},
   "outputs": [
    {
     "name": "stdout",
     "output_type": "stream",
     "text": [
      "X is smaller\n"
     ]
    }
   ],
   "source": [
    "if x>y:\n",
    "    print('Y is smaller')\n",
    "else:\n",
    "    if x<y:\n",
    "        print('X is smaller')\n",
    "    else:\n",
    "        print('Both the numbers are equal')        "
   ]
  },
  {
   "cell_type": "markdown",
   "metadata": {},
   "source": [
    "![title](nested_conditions.png)"
   ]
  },
  {
   "cell_type": "code",
   "execution_count": 46,
   "metadata": {},
   "outputs": [
    {
     "name": "stdout",
     "output_type": "stream",
     "text": [
      "It is good\n"
     ]
    }
   ],
   "source": [
    "if np.random.randint(1000, 10000) > 2000:\n",
    "    print('It is good')"
   ]
  }
 ],
 "metadata": {
  "kernelspec": {
   "display_name": "testkernel3.7",
   "language": "python",
   "name": "test"
  },
  "language_info": {
   "codemirror_mode": {
    "name": "ipython",
    "version": 3
   },
   "file_extension": ".py",
   "mimetype": "text/x-python",
   "name": "python",
   "nbconvert_exporter": "python",
   "pygments_lexer": "ipython3",
   "version": "3.7.7"
  }
 },
 "nbformat": 4,
 "nbformat_minor": 4
}
